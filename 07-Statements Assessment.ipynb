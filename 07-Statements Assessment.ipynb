{
 "cells": [
  {
   "cell_type": "markdown",
   "metadata": {},
   "source": [
    "___\n",
    "\n",
    "<a href='careeredge.io'><img src='../CareerEdge Logo.png'/></a>\n",
    "___\n",
    "<center><em>Content Copyright by CareerEdge.io</em></center>"
   ]
  },
  {
   "cell_type": "markdown",
   "metadata": {
    "collapsed": true
   },
   "source": [
    "# Statements Assessment Test\n",
    "Let's test your knowledge!"
   ]
  },
  {
   "cell_type": "markdown",
   "metadata": {},
   "source": [
    "_____\n",
    "**Use <code>for</code>, .split(), and <code>if</code> to create a Statement that will print out words that start with 's':**"
   ]
  },
  {
   "cell_type": "code",
   "execution_count": 4,
   "metadata": {},
   "outputs": [],
   "source": [
    "st = 'Print only the words that start with s in this sentence'"
   ]
  },
  {
   "cell_type": "code",
   "execution_count": 6,
   "metadata": {},
   "outputs": [
    {
     "name": "stdout",
     "output_type": "stream",
     "text": [
      "start\n",
      "s\n",
      "sentence\n"
     ]
    }
   ],
   "source": [
    "#Code here\n",
    "for word in st.split():\n",
    "    if word[0] == 's':\n",
    "        print(word)"
   ]
  },
  {
   "cell_type": "markdown",
   "metadata": {},
   "source": [
    "______\n",
    "**Use range() to print all the even numbers from 0 to 10.**"
   ]
  },
  {
   "cell_type": "code",
   "execution_count": 14,
   "metadata": {},
   "outputs": [
    {
     "data": {
      "text/plain": [
       "[0, 2, 4, 6, 8, 10]"
      ]
     },
     "execution_count": 14,
     "metadata": {},
     "output_type": "execute_result"
    }
   ],
   "source": [
    "#Code Here\n",
    "list(range(0, 11, 2))"
   ]
  },
  {
   "cell_type": "markdown",
   "metadata": {},
   "source": [
    "___\n",
    "**Use a List Comprehension to create a list of all numbers between 1 and 50 that are divisible by 3.**"
   ]
  },
  {
   "cell_type": "code",
   "execution_count": 16,
   "metadata": {},
   "outputs": [
    {
     "data": {
      "text/plain": [
       "[3, 6, 9, 12, 15, 18, 21, 24, 27, 30, 33, 36, 39, 42, 45, 48]"
      ]
     },
     "execution_count": 16,
     "metadata": {},
     "output_type": "execute_result"
    }
   ],
   "source": [
    "#Code in this cell\n",
    "list = [num for num in range(1,51) if num%3 == 0]\n",
    "list"
   ]
  },
  {
   "cell_type": "markdown",
   "metadata": {},
   "source": [
    "_____\n",
    "**Go through the string below and if the length of a word is even print \"even!\"**"
   ]
  },
  {
   "cell_type": "code",
   "execution_count": null,
   "metadata": {
    "collapsed": true
   },
   "outputs": [],
   "source": [
    "st = 'Print every word in this sentence that has an even number of letters'"
   ]
  },
  {
   "cell_type": "code",
   "execution_count": 18,
   "metadata": {},
   "outputs": [
    {
     "name": "stdout",
     "output_type": "stream",
     "text": [
      "only\n",
      "that\n",
      "with\n",
      "in\n",
      "this\n",
      "sentence\n"
     ]
    }
   ],
   "source": [
    "#Code in this cell\n",
    "for i in st.split():\n",
    "    if len(i) % 2 == 0:\n",
    "        print(i)"
   ]
  },
  {
   "cell_type": "markdown",
   "metadata": {},
   "source": [
    "____\n",
    "**Write a program that prints the integers from 1 to 100. But for multiples of three print \"Fizz\" instead of the number, and for the multiples of five print \"Buzz\". For numbers which are multiples of both three and five print \"FizzBuzz\".**"
   ]
  },
  {
   "cell_type": "code",
   "execution_count": 25,
   "metadata": {},
   "outputs": [
    {
     "name": "stdout",
     "output_type": "stream",
     "text": [
      "1 Neither Fizz nor Buzz\n",
      "2 Neither Fizz nor Buzz\n",
      "3 Fizz\n",
      "4 Neither Fizz nor Buzz\n",
      "5 Buzz\n",
      "6 Fizz\n",
      "7 Neither Fizz nor Buzz\n",
      "8 Neither Fizz nor Buzz\n",
      "9 Fizz\n",
      "10 Buzz\n",
      "11 Neither Fizz nor Buzz\n",
      "12 Fizz\n",
      "13 Neither Fizz nor Buzz\n",
      "14 Neither Fizz nor Buzz\n",
      "15 FizzBuzz\n",
      "16 Neither Fizz nor Buzz\n",
      "17 Neither Fizz nor Buzz\n",
      "18 Fizz\n",
      "19 Neither Fizz nor Buzz\n",
      "20 Buzz\n",
      "21 Fizz\n",
      "22 Neither Fizz nor Buzz\n",
      "23 Neither Fizz nor Buzz\n",
      "24 Fizz\n",
      "25 Buzz\n",
      "26 Neither Fizz nor Buzz\n",
      "27 Fizz\n",
      "28 Neither Fizz nor Buzz\n",
      "29 Neither Fizz nor Buzz\n",
      "30 FizzBuzz\n",
      "31 Neither Fizz nor Buzz\n",
      "32 Neither Fizz nor Buzz\n",
      "33 Fizz\n",
      "34 Neither Fizz nor Buzz\n",
      "35 Buzz\n",
      "36 Fizz\n",
      "37 Neither Fizz nor Buzz\n",
      "38 Neither Fizz nor Buzz\n",
      "39 Fizz\n",
      "40 Buzz\n",
      "41 Neither Fizz nor Buzz\n",
      "42 Fizz\n",
      "43 Neither Fizz nor Buzz\n",
      "44 Neither Fizz nor Buzz\n",
      "45 FizzBuzz\n",
      "46 Neither Fizz nor Buzz\n",
      "47 Neither Fizz nor Buzz\n",
      "48 Fizz\n",
      "49 Neither Fizz nor Buzz\n",
      "50 Buzz\n",
      "51 Fizz\n",
      "52 Neither Fizz nor Buzz\n",
      "53 Neither Fizz nor Buzz\n",
      "54 Fizz\n",
      "55 Buzz\n",
      "56 Neither Fizz nor Buzz\n",
      "57 Fizz\n",
      "58 Neither Fizz nor Buzz\n",
      "59 Neither Fizz nor Buzz\n",
      "60 FizzBuzz\n",
      "61 Neither Fizz nor Buzz\n",
      "62 Neither Fizz nor Buzz\n",
      "63 Fizz\n",
      "64 Neither Fizz nor Buzz\n",
      "65 Buzz\n",
      "66 Fizz\n",
      "67 Neither Fizz nor Buzz\n",
      "68 Neither Fizz nor Buzz\n",
      "69 Fizz\n",
      "70 Buzz\n",
      "71 Neither Fizz nor Buzz\n",
      "72 Fizz\n",
      "73 Neither Fizz nor Buzz\n",
      "74 Neither Fizz nor Buzz\n",
      "75 FizzBuzz\n",
      "76 Neither Fizz nor Buzz\n",
      "77 Neither Fizz nor Buzz\n",
      "78 Fizz\n",
      "79 Neither Fizz nor Buzz\n",
      "80 Buzz\n",
      "81 Fizz\n",
      "82 Neither Fizz nor Buzz\n",
      "83 Neither Fizz nor Buzz\n",
      "84 Fizz\n",
      "85 Buzz\n",
      "86 Neither Fizz nor Buzz\n",
      "87 Fizz\n",
      "88 Neither Fizz nor Buzz\n",
      "89 Neither Fizz nor Buzz\n",
      "90 FizzBuzz\n",
      "91 Neither Fizz nor Buzz\n",
      "92 Neither Fizz nor Buzz\n",
      "93 Fizz\n",
      "94 Neither Fizz nor Buzz\n",
      "95 Buzz\n",
      "96 Fizz\n",
      "97 Neither Fizz nor Buzz\n",
      "98 Neither Fizz nor Buzz\n",
      "99 Fizz\n",
      "100 Buzz\n"
     ]
    }
   ],
   "source": [
    "#Code in this cell\n",
    "for i in range(1, 101):\n",
    "    if i % 3 == 0 and i % 5 == 0:\n",
    "        print(i, \"FizzBuzz\")\n",
    "    elif i % 5 == 0:\n",
    "        print(i, \"Buzz\")\n",
    "    elif i % 3==0:\n",
    "        print(i, \"Fizz\")\n",
    "    else:\n",
    "        print(i, \"Neither Fizz nor Buzz\")"
   ]
  },
  {
   "cell_type": "markdown",
   "metadata": {},
   "source": [
    "____\n",
    "**Use List Comprehension to create a list of the first letters of every word in the string below:**"
   ]
  },
  {
   "cell_type": "code",
   "execution_count": 28,
   "metadata": {},
   "outputs": [],
   "source": [
    "st = 'Create a list of the first letters of every word in this string'"
   ]
  },
  {
   "cell_type": "code",
   "execution_count": 30,
   "metadata": {},
   "outputs": [
    {
     "name": "stdout",
     "output_type": "stream",
     "text": [
      "['C', 'a', 'l', 'o', 't', 'f', 'l', 'o', 'e', 'w', 'i', 't', 's']\n"
     ]
    }
   ],
   "source": [
    "#Code in this cell\n",
    "list1 = [word[0] for word in st.split()]\n",
    "print(list1)"
   ]
  },
  {
   "cell_type": "markdown",
   "metadata": {},
   "source": [
    "### Great Job!"
   ]
  }
 ],
 "metadata": {
  "kernelspec": {
   "display_name": "Python 3",
   "language": "python",
   "name": "python3"
  },
  "language_info": {
   "codemirror_mode": {
    "name": "ipython",
    "version": 3
   },
   "file_extension": ".py",
   "mimetype": "text/x-python",
   "name": "python",
   "nbconvert_exporter": "python",
   "pygments_lexer": "ipython3",
   "version": "3.7.4"
  }
 },
 "nbformat": 4,
 "nbformat_minor": 1
}
